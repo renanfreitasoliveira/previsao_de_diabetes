{
 "cells": [
  {
   "cell_type": "markdown",
   "id": "3e026cc7",
   "metadata": {},
   "source": [
    "### Importando libs"
   ]
  },
  {
   "cell_type": "code",
   "execution_count": 71,
   "id": "bf78d369",
   "metadata": {},
   "outputs": [],
   "source": [
    "import pandas as pd \n",
    "import numpy as np \n",
    "import random\n",
    "import seaborn as sns \n",
    "import matplotlib.pyplot as plt\n",
    "\n",
    "import warnings\n",
    "warnings.filterwarnings('ignore')\n",
    "from sklearn.model_selection import train_test_split\n",
    "from sklearn.preprocessing import StandardScaler\n",
    "from sklearn.preprocessing import MinMaxScaler\n",
    "\n",
    "from sklearn.naive_bayes import GaussianNB\n",
    "from sklearn.linear_model import LogisticRegression\n",
    "from sklearn.tree import DecisionTreeClassifier\n",
    "from sklearn.svm import SVC\n",
    "\n",
    "from sklearn.metrics import (accuracy_score,\n",
    "                             precision_score,\n",
    "                             recall_score, \n",
    "                             f1_score)"
   ]
  },
  {
   "cell_type": "code",
   "execution_count": 72,
   "id": "9c1fe5c9",
   "metadata": {},
   "outputs": [
    {
     "name": "stdout",
     "output_type": "stream",
     "text": [
      "Requirement already satisfied: DESlib in c:\\users\\renan\\anaconda3\\lib\\site-packages (0.3.5)\n",
      "Requirement already satisfied: numpy>=1.17.0 in c:\\users\\renan\\anaconda3\\lib\\site-packages (from DESlib) (1.20.3)\n",
      "Requirement already satisfied: scipy>=1.4.0 in c:\\users\\renan\\anaconda3\\lib\\site-packages (from DESlib) (1.7.3)\n",
      "Requirement already satisfied: scikit-learn>=0.21.0 in c:\\users\\renan\\anaconda3\\lib\\site-packages (from DESlib) (1.0.2)\n",
      "Requirement already satisfied: threadpoolctl>=2.0.0 in c:\\users\\renan\\anaconda3\\lib\\site-packages (from scikit-learn>=0.21.0->DESlib) (2.2.0)\n",
      "Requirement already satisfied: joblib>=0.11 in c:\\users\\renan\\anaconda3\\lib\\site-packages (from scikit-learn>=0.21.0->DESlib) (1.1.0)\n"
     ]
    }
   ],
   "source": [
    "!pip install DESlib"
   ]
  },
  {
   "cell_type": "code",
   "execution_count": 73,
   "id": "b68e569b",
   "metadata": {},
   "outputs": [],
   "source": [
    "from deslib.des import DESP\n",
    "from deslib.des import KNORAE\n",
    "from deslib.des import KNORAU\n",
    "from deslib.des import KNOP\n",
    "\n",
    "def side_by_side(*objs, **kwds):\n",
    "    from pandas.io.formats.printing import adjoin\n",
    "    space = kwds.get('space', 4)\n",
    "    reprs = [repr(obj).split('\\n') for obj in objs]\n",
    "    print (adjoin(space, *reprs))\n",
    "    print()\n",
    "    return\n",
    "\n",
    "\n",
    "import scipy.stats as stats"
   ]
  },
  {
   "cell_type": "markdown",
   "id": "745ad422",
   "metadata": {},
   "source": [
    "#### Importando e visualizando o Dataframe"
   ]
  },
  {
   "cell_type": "code",
   "execution_count": 74,
   "id": "7b79cd4d",
   "metadata": {},
   "outputs": [
    {
     "data": {
      "text/html": [
       "<div>\n",
       "<style scoped>\n",
       "    .dataframe tbody tr th:only-of-type {\n",
       "        vertical-align: middle;\n",
       "    }\n",
       "\n",
       "    .dataframe tbody tr th {\n",
       "        vertical-align: top;\n",
       "    }\n",
       "\n",
       "    .dataframe thead th {\n",
       "        text-align: right;\n",
       "    }\n",
       "</style>\n",
       "<table border=\"1\" class=\"dataframe\">\n",
       "  <thead>\n",
       "    <tr style=\"text-align: right;\">\n",
       "      <th></th>\n",
       "      <th>Pregnancies</th>\n",
       "      <th>Glucose</th>\n",
       "      <th>BloodPressure</th>\n",
       "      <th>SkinThickness</th>\n",
       "      <th>Insulin</th>\n",
       "      <th>BMI</th>\n",
       "      <th>DiabetesPedigreeFunction</th>\n",
       "      <th>Age</th>\n",
       "      <th>Outcome</th>\n",
       "    </tr>\n",
       "  </thead>\n",
       "  <tbody>\n",
       "    <tr>\n",
       "      <th>0</th>\n",
       "      <td>6</td>\n",
       "      <td>148</td>\n",
       "      <td>72</td>\n",
       "      <td>35</td>\n",
       "      <td>0</td>\n",
       "      <td>33.6</td>\n",
       "      <td>0.627</td>\n",
       "      <td>50</td>\n",
       "      <td>1</td>\n",
       "    </tr>\n",
       "    <tr>\n",
       "      <th>1</th>\n",
       "      <td>1</td>\n",
       "      <td>85</td>\n",
       "      <td>66</td>\n",
       "      <td>29</td>\n",
       "      <td>0</td>\n",
       "      <td>26.6</td>\n",
       "      <td>0.351</td>\n",
       "      <td>31</td>\n",
       "      <td>0</td>\n",
       "    </tr>\n",
       "    <tr>\n",
       "      <th>2</th>\n",
       "      <td>8</td>\n",
       "      <td>183</td>\n",
       "      <td>64</td>\n",
       "      <td>0</td>\n",
       "      <td>0</td>\n",
       "      <td>23.3</td>\n",
       "      <td>0.672</td>\n",
       "      <td>32</td>\n",
       "      <td>1</td>\n",
       "    </tr>\n",
       "    <tr>\n",
       "      <th>3</th>\n",
       "      <td>1</td>\n",
       "      <td>89</td>\n",
       "      <td>66</td>\n",
       "      <td>23</td>\n",
       "      <td>94</td>\n",
       "      <td>28.1</td>\n",
       "      <td>0.167</td>\n",
       "      <td>21</td>\n",
       "      <td>0</td>\n",
       "    </tr>\n",
       "    <tr>\n",
       "      <th>4</th>\n",
       "      <td>0</td>\n",
       "      <td>137</td>\n",
       "      <td>40</td>\n",
       "      <td>35</td>\n",
       "      <td>168</td>\n",
       "      <td>43.1</td>\n",
       "      <td>2.288</td>\n",
       "      <td>33</td>\n",
       "      <td>1</td>\n",
       "    </tr>\n",
       "    <tr>\n",
       "      <th>...</th>\n",
       "      <td>...</td>\n",
       "      <td>...</td>\n",
       "      <td>...</td>\n",
       "      <td>...</td>\n",
       "      <td>...</td>\n",
       "      <td>...</td>\n",
       "      <td>...</td>\n",
       "      <td>...</td>\n",
       "      <td>...</td>\n",
       "    </tr>\n",
       "    <tr>\n",
       "      <th>763</th>\n",
       "      <td>10</td>\n",
       "      <td>101</td>\n",
       "      <td>76</td>\n",
       "      <td>48</td>\n",
       "      <td>180</td>\n",
       "      <td>32.9</td>\n",
       "      <td>0.171</td>\n",
       "      <td>63</td>\n",
       "      <td>0</td>\n",
       "    </tr>\n",
       "    <tr>\n",
       "      <th>764</th>\n",
       "      <td>2</td>\n",
       "      <td>122</td>\n",
       "      <td>70</td>\n",
       "      <td>27</td>\n",
       "      <td>0</td>\n",
       "      <td>36.8</td>\n",
       "      <td>0.340</td>\n",
       "      <td>27</td>\n",
       "      <td>0</td>\n",
       "    </tr>\n",
       "    <tr>\n",
       "      <th>765</th>\n",
       "      <td>5</td>\n",
       "      <td>121</td>\n",
       "      <td>72</td>\n",
       "      <td>23</td>\n",
       "      <td>112</td>\n",
       "      <td>26.2</td>\n",
       "      <td>0.245</td>\n",
       "      <td>30</td>\n",
       "      <td>0</td>\n",
       "    </tr>\n",
       "    <tr>\n",
       "      <th>766</th>\n",
       "      <td>1</td>\n",
       "      <td>126</td>\n",
       "      <td>60</td>\n",
       "      <td>0</td>\n",
       "      <td>0</td>\n",
       "      <td>30.1</td>\n",
       "      <td>0.349</td>\n",
       "      <td>47</td>\n",
       "      <td>1</td>\n",
       "    </tr>\n",
       "    <tr>\n",
       "      <th>767</th>\n",
       "      <td>1</td>\n",
       "      <td>93</td>\n",
       "      <td>70</td>\n",
       "      <td>31</td>\n",
       "      <td>0</td>\n",
       "      <td>30.4</td>\n",
       "      <td>0.315</td>\n",
       "      <td>23</td>\n",
       "      <td>0</td>\n",
       "    </tr>\n",
       "  </tbody>\n",
       "</table>\n",
       "<p>768 rows × 9 columns</p>\n",
       "</div>"
      ],
      "text/plain": [
       "     Pregnancies  Glucose  BloodPressure  SkinThickness  Insulin   BMI  \\\n",
       "0              6      148             72             35        0  33.6   \n",
       "1              1       85             66             29        0  26.6   \n",
       "2              8      183             64              0        0  23.3   \n",
       "3              1       89             66             23       94  28.1   \n",
       "4              0      137             40             35      168  43.1   \n",
       "..           ...      ...            ...            ...      ...   ...   \n",
       "763           10      101             76             48      180  32.9   \n",
       "764            2      122             70             27        0  36.8   \n",
       "765            5      121             72             23      112  26.2   \n",
       "766            1      126             60              0        0  30.1   \n",
       "767            1       93             70             31        0  30.4   \n",
       "\n",
       "     DiabetesPedigreeFunction  Age  Outcome  \n",
       "0                       0.627   50        1  \n",
       "1                       0.351   31        0  \n",
       "2                       0.672   32        1  \n",
       "3                       0.167   21        0  \n",
       "4                       2.288   33        1  \n",
       "..                        ...  ...      ...  \n",
       "763                     0.171   63        0  \n",
       "764                     0.340   27        0  \n",
       "765                     0.245   30        0  \n",
       "766                     0.349   47        1  \n",
       "767                     0.315   23        0  \n",
       "\n",
       "[768 rows x 9 columns]"
      ]
     },
     "execution_count": 74,
     "metadata": {},
     "output_type": "execute_result"
    }
   ],
   "source": [
    "diabetes_data = pd.read_csv(r'C:\\Users\\Renan\\Documents\\Downloads\\diabetes.csv')\n",
    "diabetes_data"
   ]
  },
  {
   "cell_type": "code",
   "execution_count": 75,
   "id": "2e44a0b4",
   "metadata": {},
   "outputs": [
    {
     "name": "stdout",
     "output_type": "stream",
     "text": [
      "Dataset contains 768 rows.\n",
      "Dataset contains 9 columns.\n"
     ]
    }
   ],
   "source": [
    "num_rows = diabetes_data.shape[0]\n",
    "print('Dataset contains '+str(num_rows)+' rows.')\n",
    "num_cols = diabetes_data.shape[1]\n",
    "print('Dataset contains '+str(num_cols)+' columns.')"
   ]
  },
  {
   "cell_type": "code",
   "execution_count": 76,
   "id": "3e4b4ebb",
   "metadata": {},
   "outputs": [
    {
     "name": "stdout",
     "output_type": "stream",
     "text": [
      "<class 'pandas.core.frame.DataFrame'>\n",
      "RangeIndex: 768 entries, 0 to 767\n",
      "Data columns (total 9 columns):\n",
      " #   Column                    Non-Null Count  Dtype  \n",
      "---  ------                    --------------  -----  \n",
      " 0   Pregnancies               768 non-null    int64  \n",
      " 1   Glucose                   768 non-null    int64  \n",
      " 2   BloodPressure             768 non-null    int64  \n",
      " 3   SkinThickness             768 non-null    int64  \n",
      " 4   Insulin                   768 non-null    int64  \n",
      " 5   BMI                       768 non-null    float64\n",
      " 6   DiabetesPedigreeFunction  768 non-null    float64\n",
      " 7   Age                       768 non-null    int64  \n",
      " 8   Outcome                   768 non-null    int64  \n",
      "dtypes: float64(2), int64(7)\n",
      "memory usage: 54.1 KB\n"
     ]
    }
   ],
   "source": [
    "diabetes_data.info()"
   ]
  },
  {
   "cell_type": "code",
   "execution_count": 77,
   "id": "f5673106",
   "metadata": {},
   "outputs": [],
   "source": [
    "for i,c in enumerate(diabetes_data.columns):\n",
    "    na_percent = np.sum(diabetes_data[c].isnull())/len(diabetes_data)*100\n",
    "    if na_percent > 0:\n",
    "        print(c,'\\t\\t% Missing(N/A) = ',np.sum(diabetes_data[c].isnull())/len(diabetes_data)*100)"
   ]
  },
  {
   "cell_type": "code",
   "execution_count": 78,
   "id": "c9b80720",
   "metadata": {},
   "outputs": [],
   "source": [
    "#Vamos ver se não falta nenhum dado"
   ]
  },
  {
   "cell_type": "code",
   "execution_count": 79,
   "id": "235989b5",
   "metadata": {},
   "outputs": [
    {
     "name": "stdout",
     "output_type": "stream",
     "text": [
      "Pregnancies                 0    Pregnancies                 768\n",
      "Glucose                     0    Glucose                     768\n",
      "BloodPressure               0    BloodPressure               768\n",
      "SkinThickness               0    SkinThickness               768\n",
      "Insulin                     0    Insulin                     768\n",
      "BMI                         0    BMI                         768\n",
      "DiabetesPedigreeFunction    0    DiabetesPedigreeFunction    768\n",
      "Age                         0    Age                         768\n",
      "Outcome                     0    Outcome                     768\n",
      "dtype: int64                     dtype: int64                   \n",
      "\n"
     ]
    }
   ],
   "source": [
    "side_by_side(diabetes_data.isnull().sum(), diabetes_data.count())"
   ]
  },
  {
   "cell_type": "code",
   "execution_count": 80,
   "id": "e6c97820",
   "metadata": {},
   "outputs": [
    {
     "name": "stdout",
     "output_type": "stream",
     "text": [
      "Counts of each class\n",
      "0    500\n",
      "1    268\n",
      "Name: Outcome, dtype: int64\n"
     ]
    },
    {
     "data": {
      "text/plain": [
       "(768, 9)"
      ]
     },
     "execution_count": 80,
     "metadata": {},
     "output_type": "execute_result"
    },
    {
     "data": {
      "image/png": "[encoded data removed]",
      "text/plain": [
       "<Figure size 432x288 with 1 Axes>"
      ]
     },
     "metadata": {
      "needs_background": "light"
     },
     "output_type": "display_data"
    }
   ],
   "source": [
    "print(\"Counts of each class\")\n",
    "print(diabetes_data[\"Outcome\"].value_counts())\n",
    "diabetes_data[\"Outcome\"].value_counts().plot(kind='bar')\n",
    "plt.ylabel('Count')\n",
    "plt.title('Class Counts (Checking for Imbalance)')\n",
    "diabetes_data.shape"
   ]
  },
  {
   "cell_type": "code",
   "execution_count": 81,
   "id": "b036716a",
   "metadata": {},
   "outputs": [
    {
     "data": {
      "text/plain": [
       "<AxesSubplot:xlabel='Outcome', ylabel='Pregnancies'>"
      ]
     },
     "execution_count": 81,
     "metadata": {},
     "output_type": "execute_result"
    },
    {
     "data": {
      "image/png": "[encoded data removed]",
      "text/plain": [
       "<Figure size 432x288 with 1 Axes>"
      ]
     },
     "metadata": {
      "needs_background": "light"
     },
     "output_type": "display_data"
    }
   ],
   "source": [
    "sns.violinplot(x=\"Outcome\", y=\"Pregnancies\", data=diabetes_data)"
   ]
  },
  {
   "cell_type": "code",
   "execution_count": 82,
   "id": "669f211a",
   "metadata": {},
   "outputs": [],
   "source": [
    "#Aqui podemos ver que mulheres com maior numeros de gravidez tem mais chance de desenvolver diabetes"
   ]
  },
  {
   "cell_type": "code",
   "execution_count": 83,
   "id": "0a659dcd",
   "metadata": {},
   "outputs": [
    {
     "data": {
      "text/plain": [
       "<AxesSubplot:xlabel='Outcome', ylabel='BloodPressure'>"
      ]
     },
     "execution_count": 83,
     "metadata": {},
     "output_type": "execute_result"
    },
    {
     "data": {
      "image/png": "[encoded data removed]",
      "text/plain": [
       "<Figure size 432x288 with 1 Axes>"
      ]
     },
     "metadata": {
      "needs_background": "light"
     },
     "output_type": "display_data"
    }
   ],
   "source": [
    "sns.boxplot(x=\"Outcome\", y=\"BloodPressure\", data=diabetes_data)"
   ]
  },
  {
   "cell_type": "markdown",
   "id": "339569a7",
   "metadata": {},
   "source": [
    "#### Correlação entre as features, com Heat plot"
   ]
  },
  {
   "cell_type": "code",
   "execution_count": 84,
   "id": "bec9d660",
   "metadata": {},
   "outputs": [
    {
     "data": {
      "text/plain": [
       "Index(['Pregnancies', 'Glucose', 'BloodPressure', 'SkinThickness', 'Insulin',\n",
       "       'BMI', 'DiabetesPedigreeFunction', 'Age', 'Outcome'],\n",
       "      dtype='object')"
      ]
     },
     "execution_count": 84,
     "metadata": {},
     "output_type": "execute_result"
    }
   ],
   "source": [
    "diabetes_data.columns"
   ]
  },
  {
   "cell_type": "code",
   "execution_count": 85,
   "id": "1885f97b",
   "metadata": {},
   "outputs": [
    {
     "data": {
      "image/png": "[encoded data removed]",
      "text/plain": [
       "<Figure size 1440x576 with 2 Axes>"
      ]
     },
     "metadata": {
      "needs_background": "light"
     },
     "output_type": "display_data"
    }
   ],
   "source": [
    "fig,ax = plt.subplots(figsize=(20,8))\n",
    "fig.suptitle(\"Diabetes Dataset - Correlation between Features\", fontsize=30)\n",
    "corrcoef = diabetes_data[['Outcome', 'Pregnancies', 'Glucose', 'BloodPressure', 'SkinThickness',\n",
    "                          'BMI', 'DiabetesPedigreeFunction', 'Insulin', 'Age']].corr()\n",
    "mask = np.array(corrcoef)\n",
    "mask[np.tril_indices_from(mask)] = False\n",
    "sns.heatmap(corrcoef, mask=mask, vmax=.8, annot=True, ax=ax)\n",
    "plt.show();"
   ]
  },
  {
   "cell_type": "markdown",
   "id": "c69a4cfc",
   "metadata": {},
   "source": [
    "#### Detectando outliers"
   ]
  },
  {
   "cell_type": "code",
   "execution_count": 86,
   "id": "9b687b7c",
   "metadata": {},
   "outputs": [],
   "source": [
    "def z_score_outlier(df):\n",
    "    out=[] \n",
    "    m = np.mean(df)\n",
    "    sd = np.std(df)\n",
    "    for i in df: \n",
    "        z = (i-m)/sd\n",
    "        if np.abs(z) > 3: \n",
    "            out.append(i)\n",
    "    print(\"Outliers:\",out)"
   ]
  },
  {
   "cell_type": "code",
   "execution_count": 87,
   "id": "58721b77",
   "metadata": {},
   "outputs": [
    {
     "name": "stdout",
     "output_type": "stream",
     "text": [
      "-3.7813575226775105\n"
     ]
    }
   ],
   "source": [
    "z = (0-120.89)/(31.97)\n",
    "print(z)"
   ]
  },
  {
   "cell_type": "code",
   "execution_count": 88,
   "id": "2d3999a1",
   "metadata": {},
   "outputs": [
    {
     "name": "stdout",
     "output_type": "stream",
     "text": [
      "Outliers: [0, 0, 0, 0, 0]\n"
     ]
    }
   ],
   "source": [
    "z_score_outlier(diabetes_data['Glucose'])"
   ]
  },
  {
   "cell_type": "code",
   "execution_count": 89,
   "id": "8efdbd4c",
   "metadata": {},
   "outputs": [
    {
     "name": "stdout",
     "output_type": "stream",
     "text": [
      "Outliers: [2.288, 1.893, 1.781, 2.329, 1.476, 2.137, 1.731, 1.6, 2.42, 1.699, 1.698]\n"
     ]
    }
   ],
   "source": [
    "z_score_outlier(diabetes_data['DiabetesPedigreeFunction'])"
   ]
  },
  {
   "cell_type": "code",
   "execution_count": 90,
   "id": "b5458fb8",
   "metadata": {},
   "outputs": [
    {
     "data": {
      "text/plain": [
       "count    768.000000\n",
       "mean       0.471876\n",
       "std        0.331329\n",
       "min        0.078000\n",
       "25%        0.243750\n",
       "50%        0.372500\n",
       "75%        0.626250\n",
       "max        2.420000\n",
       "Name: DiabetesPedigreeFunction, dtype: float64"
      ]
     },
     "execution_count": 90,
     "metadata": {},
     "output_type": "execute_result"
    }
   ],
   "source": [
    "diabetes_data['DiabetesPedigreeFunction'].describe()"
   ]
  },
  {
   "cell_type": "code",
   "execution_count": 91,
   "id": "96dc0ee4",
   "metadata": {},
   "outputs": [
    {
     "data": {
      "text/html": [
       "<div>\n",
       "<style scoped>\n",
       "    .dataframe tbody tr th:only-of-type {\n",
       "        vertical-align: middle;\n",
       "    }\n",
       "\n",
       "    .dataframe tbody tr th {\n",
       "        vertical-align: top;\n",
       "    }\n",
       "\n",
       "    .dataframe thead th {\n",
       "        text-align: right;\n",
       "    }\n",
       "</style>\n",
       "<table border=\"1\" class=\"dataframe\">\n",
       "  <thead>\n",
       "    <tr style=\"text-align: right;\">\n",
       "      <th></th>\n",
       "      <th>Pregnancies</th>\n",
       "      <th>Glucose</th>\n",
       "      <th>BloodPressure</th>\n",
       "      <th>SkinThickness</th>\n",
       "      <th>Insulin</th>\n",
       "      <th>BMI</th>\n",
       "      <th>DiabetesPedigreeFunction</th>\n",
       "      <th>Age</th>\n",
       "      <th>Outcome</th>\n",
       "    </tr>\n",
       "  </thead>\n",
       "  <tbody>\n",
       "    <tr>\n",
       "      <th>4</th>\n",
       "      <td>0</td>\n",
       "      <td>137</td>\n",
       "      <td>40</td>\n",
       "      <td>35</td>\n",
       "      <td>168</td>\n",
       "      <td>43.1</td>\n",
       "      <td>2.288</td>\n",
       "      <td>33</td>\n",
       "      <td>1</td>\n",
       "    </tr>\n",
       "    <tr>\n",
       "      <th>45</th>\n",
       "      <td>0</td>\n",
       "      <td>180</td>\n",
       "      <td>66</td>\n",
       "      <td>39</td>\n",
       "      <td>0</td>\n",
       "      <td>42.0</td>\n",
       "      <td>1.893</td>\n",
       "      <td>25</td>\n",
       "      <td>1</td>\n",
       "    </tr>\n",
       "    <tr>\n",
       "      <th>58</th>\n",
       "      <td>0</td>\n",
       "      <td>146</td>\n",
       "      <td>82</td>\n",
       "      <td>0</td>\n",
       "      <td>0</td>\n",
       "      <td>40.5</td>\n",
       "      <td>1.781</td>\n",
       "      <td>44</td>\n",
       "      <td>0</td>\n",
       "    </tr>\n",
       "    <tr>\n",
       "      <th>228</th>\n",
       "      <td>4</td>\n",
       "      <td>197</td>\n",
       "      <td>70</td>\n",
       "      <td>39</td>\n",
       "      <td>744</td>\n",
       "      <td>36.7</td>\n",
       "      <td>2.329</td>\n",
       "      <td>31</td>\n",
       "      <td>0</td>\n",
       "    </tr>\n",
       "    <tr>\n",
       "      <th>370</th>\n",
       "      <td>3</td>\n",
       "      <td>173</td>\n",
       "      <td>82</td>\n",
       "      <td>48</td>\n",
       "      <td>465</td>\n",
       "      <td>38.4</td>\n",
       "      <td>2.137</td>\n",
       "      <td>25</td>\n",
       "      <td>1</td>\n",
       "    </tr>\n",
       "    <tr>\n",
       "      <th>371</th>\n",
       "      <td>0</td>\n",
       "      <td>118</td>\n",
       "      <td>64</td>\n",
       "      <td>23</td>\n",
       "      <td>89</td>\n",
       "      <td>0.0</td>\n",
       "      <td>1.731</td>\n",
       "      <td>21</td>\n",
       "      <td>0</td>\n",
       "    </tr>\n",
       "    <tr>\n",
       "      <th>395</th>\n",
       "      <td>2</td>\n",
       "      <td>127</td>\n",
       "      <td>58</td>\n",
       "      <td>24</td>\n",
       "      <td>275</td>\n",
       "      <td>27.7</td>\n",
       "      <td>1.600</td>\n",
       "      <td>25</td>\n",
       "      <td>0</td>\n",
       "    </tr>\n",
       "    <tr>\n",
       "      <th>445</th>\n",
       "      <td>0</td>\n",
       "      <td>180</td>\n",
       "      <td>78</td>\n",
       "      <td>63</td>\n",
       "      <td>14</td>\n",
       "      <td>59.4</td>\n",
       "      <td>2.420</td>\n",
       "      <td>25</td>\n",
       "      <td>1</td>\n",
       "    </tr>\n",
       "    <tr>\n",
       "      <th>593</th>\n",
       "      <td>2</td>\n",
       "      <td>82</td>\n",
       "      <td>52</td>\n",
       "      <td>22</td>\n",
       "      <td>115</td>\n",
       "      <td>28.5</td>\n",
       "      <td>1.699</td>\n",
       "      <td>25</td>\n",
       "      <td>0</td>\n",
       "    </tr>\n",
       "    <tr>\n",
       "      <th>621</th>\n",
       "      <td>2</td>\n",
       "      <td>92</td>\n",
       "      <td>76</td>\n",
       "      <td>20</td>\n",
       "      <td>0</td>\n",
       "      <td>24.2</td>\n",
       "      <td>1.698</td>\n",
       "      <td>28</td>\n",
       "      <td>0</td>\n",
       "    </tr>\n",
       "  </tbody>\n",
       "</table>\n",
       "</div>"
      ],
      "text/plain": [
       "     Pregnancies  Glucose  BloodPressure  SkinThickness  Insulin   BMI  \\\n",
       "4              0      137             40             35      168  43.1   \n",
       "45             0      180             66             39        0  42.0   \n",
       "58             0      146             82              0        0  40.5   \n",
       "228            4      197             70             39      744  36.7   \n",
       "370            3      173             82             48      465  38.4   \n",
       "371            0      118             64             23       89   0.0   \n",
       "395            2      127             58             24      275  27.7   \n",
       "445            0      180             78             63       14  59.4   \n",
       "593            2       82             52             22      115  28.5   \n",
       "621            2       92             76             20        0  24.2   \n",
       "\n",
       "     DiabetesPedigreeFunction  Age  Outcome  \n",
       "4                       2.288   33        1  \n",
       "45                      1.893   25        1  \n",
       "58                      1.781   44        0  \n",
       "228                     2.329   31        0  \n",
       "370                     2.137   25        1  \n",
       "371                     1.731   21        0  \n",
       "395                     1.600   25        0  \n",
       "445                     2.420   25        1  \n",
       "593                     1.699   25        0  \n",
       "621                     1.698   28        0  "
      ]
     },
     "execution_count": 91,
     "metadata": {},
     "output_type": "execute_result"
    }
   ],
   "source": [
    "diabetes_data[diabetes_data['DiabetesPedigreeFunction'] >=1.6]"
   ]
  },
  {
   "cell_type": "code",
   "execution_count": 92,
   "id": "5792152e",
   "metadata": {},
   "outputs": [],
   "source": [
    "def ZRscore_outlier(df):\n",
    "    out = []\n",
    "    med = np.median(df)\n",
    "    ma = stats.median_absolute_deviation(df)\n",
    "    for i in df: \n",
    "        z = (0.6745*(i-med))/ (np.median(ma))\n",
    "        if np.abs(z) > 3: \n",
    "            out.append(i)\n",
    "    print(\"Outliers:\",out)\n",
    "    print(\"number of outliers:\", len(out))"
   ]
  },
  {
   "cell_type": "code",
   "execution_count": 93,
   "id": "66cb86ed",
   "metadata": {},
   "outputs": [
    {
     "name": "stdout",
     "output_type": "stream",
     "text": [
      "Outliers: []\n",
      "number of outliers: 0\n"
     ]
    }
   ],
   "source": [
    "ZRscore_outlier(diabetes_data['Glucose'])"
   ]
  },
  {
   "cell_type": "code",
   "execution_count": 94,
   "id": "ee8b785d",
   "metadata": {},
   "outputs": [
    {
     "name": "stdout",
     "output_type": "stream",
     "text": [
      "Outliers: [0, 0, 0, 0, 0, 0, 0, 0, 0, 0, 0, 0, 0, 0, 0, 0, 0, 0, 0, 0, 0, 0, 0, 0, 0, 0, 0, 0, 0, 0, 0, 0, 0, 0, 0]\n",
      "number of outliers: 35\n"
     ]
    }
   ],
   "source": [
    "ZRscore_outlier(diabetes_data['BloodPressure'])"
   ]
  },
  {
   "cell_type": "code",
   "execution_count": 95,
   "id": "87afb601",
   "metadata": {},
   "outputs": [
    {
     "name": "stdout",
     "output_type": "stream",
     "text": [
      "Outliers: [2.288, 1.893, 1.781, 2.329, 2.137, 1.731, 1.6, 2.42, 1.699, 1.698]\n",
      "number of outliers: 10\n"
     ]
    }
   ],
   "source": [
    "ZRscore_outlier(diabetes_data['DiabetesPedigreeFunction'])"
   ]
  },
  {
   "cell_type": "code",
   "execution_count": 96,
   "id": "db454a1d",
   "metadata": {},
   "outputs": [
    {
     "name": "stdout",
     "output_type": "stream",
     "text": [
      "Outliers: [0.0, 0.0, 0.0, 0.0, 0.0, 67.1, 0.0, 0.0, 0.0, 0.0, 0.0, 0.0]\n",
      "number of outliers: 12\n"
     ]
    }
   ],
   "source": [
    "ZRscore_outlier(diabetes_data['BMI'])"
   ]
  },
  {
   "cell_type": "code",
   "execution_count": 97,
   "id": "001123c3",
   "metadata": {},
   "outputs": [
    {
     "data": {
      "text/plain": [
       "count    768.000000\n",
       "mean      31.992578\n",
       "std        7.884160\n",
       "min        0.000000\n",
       "25%       27.300000\n",
       "50%       32.000000\n",
       "75%       36.600000\n",
       "max       67.100000\n",
       "Name: BMI, dtype: float64"
      ]
     },
     "execution_count": 97,
     "metadata": {},
     "output_type": "execute_result"
    }
   ],
   "source": [
    "diabetes_data['BMI'].describe().T"
   ]
  },
  {
   "cell_type": "code",
   "execution_count": 98,
   "id": "5831d631",
   "metadata": {},
   "outputs": [
    {
     "name": "stdout",
     "output_type": "stream",
     "text": [
      "Outliers: [543, 846, 235, 245, 240, 300, 342, 304, 270, 495, 325, 284, 485, 285, 495, 318, 280, 271, 478, 744, 370, 680, 402, 258, 375, 278, 545, 360, 255, 249, 325, 293, 465, 325, 285, 415, 275, 579, 310, 474, 277, 237, 328, 250, 480, 265, 326, 274, 330, 600, 293, 272, 321, 440, 540, 240, 265, 480, 335, 387, 291, 392, 510]\n",
      "number of outliers: 63\n"
     ]
    }
   ],
   "source": [
    "ZRscore_outlier(diabetes_data['Insulin'])"
   ]
  },
  {
   "cell_type": "code",
   "execution_count": 99,
   "id": "098e3255",
   "metadata": {},
   "outputs": [],
   "source": [
    "diabetes_data.drop(['Insulin'], axis=1, inplace=True)\n",
    "diabetes_data = diabetes_data[diabetes_data['DiabetesPedigreeFunction'] < 1.6]"
   ]
  },
  {
   "cell_type": "code",
   "execution_count": 100,
   "id": "67976aab",
   "metadata": {},
   "outputs": [],
   "source": [
    "#Muitos Outliers"
   ]
  },
  {
   "cell_type": "markdown",
   "id": "eb48867a",
   "metadata": {},
   "source": [
    "#### Fazendo test split do modelo"
   ]
  },
  {
   "cell_type": "code",
   "execution_count": 101,
   "id": "2762a61b",
   "metadata": {},
   "outputs": [
    {
     "data": {
      "text/plain": [
       "(568, 7)"
      ]
     },
     "execution_count": 101,
     "metadata": {},
     "output_type": "execute_result"
    }
   ],
   "source": [
    "y = diabetes_data['Outcome']\n",
    "X = diabetes_data.drop(['Outcome'], axis=1)\n",
    "X_train, X_test, y_train, y_test = train_test_split(X, y, test_size=0.25, stratify=y, random_state=40)\n",
    "X_train.shape"
   ]
  },
  {
   "cell_type": "markdown",
   "id": "058a6ff6",
   "metadata": {},
   "source": [
    "#### Normalização dos dados"
   ]
  },
  {
   "cell_type": "code",
   "execution_count": 102,
   "id": "73f35219",
   "metadata": {},
   "outputs": [],
   "source": [
    "Min_max_scaler = MinMaxScaler().fit(X_train)\n",
    "\n",
    "## Scaling \n",
    "X_train_mm_scaled = Min_max_scaler.transform(X_train)\n",
    "X_test_mm_scaled = Min_max_scaler.transform(X_test)\n",
    "\n",
    "## Numpy Array to DataFrame \n",
    "df_train_mm_scaled = pd.DataFrame(X_train_mm_scaled)\n",
    "df_test_mm_scaled = pd.DataFrame(X_test_mm_scaled)"
   ]
  },
  {
   "cell_type": "markdown",
   "id": "e53102ee",
   "metadata": {},
   "source": [
    "#### ML Model"
   ]
  },
  {
   "cell_type": "code",
   "execution_count": 103,
   "id": "82c7ecab",
   "metadata": {},
   "outputs": [],
   "source": [
    "def get_results(train_x, train_y, test_x, test_y, classifiers): \n",
    "    names = []\n",
    "    accuracy_list = [] \n",
    "    precision_list = []\n",
    "    recall_list = [] \n",
    "    f1_list = []\n",
    "    \n",
    "    for cls in classifiers: \n",
    "        cls.fit(train_x, train_y)\n",
    "        y_preds = cls.predict(test_x) \n",
    "        \n",
    "        accuracy = round(cls.score(test_x, test_y), 3) \n",
    "        precision = round(precision_score(y_test, y_preds), 3)\n",
    "        recall = round(recall_score(y_test, y_preds), 3)\n",
    "        f1 = round(f1_score(y_test, y_preds), 3)\n",
    "        \n",
    "        names.append(cls.__class__.__name__)\n",
    "        accuracy_list.append(accuracy)\n",
    "        precision_list.append(precision)\n",
    "        recall_list.append(recall)\n",
    "        f1_list.append(f1)\n",
    "    \n",
    "    results = {'Models': names, \n",
    "               'Accuracy': accuracy_list, \n",
    "               'Precision': precision_list, \n",
    "               'Recall': recall_list, \n",
    "               'F1': f1_list}\n",
    "    \n",
    "    resultsDF = pd.DataFrame.from_dict(results)\n",
    "    \n",
    "    return resultsDF"
   ]
  },
  {
   "cell_type": "code",
   "execution_count": 104,
   "id": "47cab22d",
   "metadata": {},
   "outputs": [],
   "source": [
    "model_nb = GaussianNB(var_smoothing=0.001)\n",
    "model_lr = LogisticRegression()\n",
    "model_dt = DecisionTreeClassifier(criterion='entropy', max_depth=3)\n",
    "model_svc = SVC(kernel=\"linear\")\n",
    "\n",
    "classifiers = [model_nb, model_lr, model_dt, model_svc]"
   ]
  },
  {
   "cell_type": "code",
   "execution_count": 105,
   "id": "2c0a0b5b",
   "metadata": {},
   "outputs": [
    {
     "data": {
      "text/html": [
       "<div>\n",
       "<style scoped>\n",
       "    .dataframe tbody tr th:only-of-type {\n",
       "        vertical-align: middle;\n",
       "    }\n",
       "\n",
       "    .dataframe tbody tr th {\n",
       "        vertical-align: top;\n",
       "    }\n",
       "\n",
       "    .dataframe thead th {\n",
       "        text-align: right;\n",
       "    }\n",
       "</style>\n",
       "<table border=\"1\" class=\"dataframe\">\n",
       "  <thead>\n",
       "    <tr style=\"text-align: right;\">\n",
       "      <th></th>\n",
       "      <th>Models</th>\n",
       "      <th>Accuracy</th>\n",
       "      <th>Precision</th>\n",
       "      <th>Recall</th>\n",
       "      <th>F1</th>\n",
       "    </tr>\n",
       "  </thead>\n",
       "  <tbody>\n",
       "    <tr>\n",
       "      <th>0</th>\n",
       "      <td>GaussianNB</td>\n",
       "      <td>0.716</td>\n",
       "      <td>0.597</td>\n",
       "      <td>0.561</td>\n",
       "      <td>0.578</td>\n",
       "    </tr>\n",
       "    <tr>\n",
       "      <th>1</th>\n",
       "      <td>LogisticRegression</td>\n",
       "      <td>0.753</td>\n",
       "      <td>0.667</td>\n",
       "      <td>0.576</td>\n",
       "      <td>0.618</td>\n",
       "    </tr>\n",
       "    <tr>\n",
       "      <th>2</th>\n",
       "      <td>DecisionTreeClassifier</td>\n",
       "      <td>0.753</td>\n",
       "      <td>0.661</td>\n",
       "      <td>0.591</td>\n",
       "      <td>0.624</td>\n",
       "    </tr>\n",
       "    <tr>\n",
       "      <th>3</th>\n",
       "      <td>SVC</td>\n",
       "      <td>0.763</td>\n",
       "      <td>0.678</td>\n",
       "      <td>0.606</td>\n",
       "      <td>0.640</td>\n",
       "    </tr>\n",
       "  </tbody>\n",
       "</table>\n",
       "</div>"
      ],
      "text/plain": [
       "                   Models  Accuracy  Precision  Recall     F1\n",
       "0              GaussianNB     0.716      0.597   0.561  0.578\n",
       "1      LogisticRegression     0.753      0.667   0.576  0.618\n",
       "2  DecisionTreeClassifier     0.753      0.661   0.591  0.624\n",
       "3                     SVC     0.763      0.678   0.606  0.640"
      ]
     },
     "execution_count": 105,
     "metadata": {},
     "output_type": "execute_result"
    }
   ],
   "source": [
    "results = get_results(X_train_mm_scaled, y_train, X_test_mm_scaled, y_test, classifiers)\n",
    "results"
   ]
  },
  {
   "cell_type": "code",
   "execution_count": 106,
   "id": "b944aa8f",
   "metadata": {},
   "outputs": [
    {
     "name": "stdout",
     "output_type": "stream",
     "text": [
      "Requirement already satisfied: shap in c:\\users\\renan\\anaconda3\\lib\\site-packages (0.40.0)\n",
      "Requirement already satisfied: scipy in c:\\users\\renan\\anaconda3\\lib\\site-packages (from shap) (1.7.3)\n",
      "Requirement already satisfied: slicer==0.0.7 in c:\\users\\renan\\anaconda3\\lib\\site-packages (from shap) (0.0.7)\n",
      "Requirement already satisfied: packaging>20.9 in c:\\users\\renan\\anaconda3\\lib\\site-packages (from shap) (21.3)\n",
      "Requirement already satisfied: cloudpickle in c:\\users\\renan\\anaconda3\\lib\\site-packages (from shap) (2.0.0)\n",
      "Requirement already satisfied: pandas in c:\\users\\renan\\anaconda3\\lib\\site-packages (from shap) (1.3.5)\n",
      "Requirement already satisfied: numpy in c:\\users\\renan\\anaconda3\\lib\\site-packages (from shap) (1.20.3)\n",
      "Requirement already satisfied: scikit-learn in c:\\users\\renan\\anaconda3\\lib\\site-packages (from shap) (1.0.2)\n",
      "Requirement already satisfied: numba in c:\\users\\renan\\anaconda3\\lib\\site-packages (from shap) (0.54.1)\n",
      "Requirement already satisfied: tqdm>4.25.0 in c:\\users\\renan\\anaconda3\\lib\\site-packages (from shap) (4.62.3)\n",
      "Requirement already satisfied: pyparsing!=3.0.5,>=2.0.2 in c:\\users\\renan\\anaconda3\\lib\\site-packages (from packaging>20.9->shap) (3.0.4)\n",
      "Requirement already satisfied: colorama in c:\\users\\renan\\anaconda3\\lib\\site-packages (from tqdm>4.25.0->shap) (0.4.4)\n",
      "Requirement already satisfied: llvmlite<0.38,>=0.37.0rc1 in c:\\users\\renan\\anaconda3\\lib\\site-packages (from numba->shap) (0.37.0)\n",
      "Requirement already satisfied: setuptools in c:\\users\\renan\\anaconda3\\lib\\site-packages (from numba->shap) (58.0.4)\n",
      "Requirement already satisfied: python-dateutil>=2.7.3 in c:\\users\\renan\\anaconda3\\lib\\site-packages (from pandas->shap) (2.8.2)\n",
      "Requirement already satisfied: pytz>=2017.3 in c:\\users\\renan\\anaconda3\\lib\\site-packages (from pandas->shap) (2021.3)\n",
      "Requirement already satisfied: six>=1.5 in c:\\users\\renan\\anaconda3\\lib\\site-packages (from python-dateutil>=2.7.3->pandas->shap) (1.16.0)\n",
      "Requirement already satisfied: threadpoolctl>=2.0.0 in c:\\users\\renan\\anaconda3\\lib\\site-packages (from scikit-learn->shap) (2.2.0)\n",
      "Requirement already satisfied: joblib>=0.11 in c:\\users\\renan\\anaconda3\\lib\\site-packages (from scikit-learn->shap) (1.1.0)\n"
     ]
    }
   ],
   "source": [
    "!pip install shap"
   ]
  },
  {
   "cell_type": "code",
   "execution_count": 107,
   "id": "2b9c7964",
   "metadata": {},
   "outputs": [],
   "source": [
    "import shap"
   ]
  },
  {
   "cell_type": "markdown",
   "id": "cae248e3",
   "metadata": {},
   "source": [
    "##### Inteligência artificial explicável (Explainable Artificial Intelligence)"
   ]
  },
  {
   "cell_type": "code",
   "execution_count": 108,
   "id": "c16558c2",
   "metadata": {},
   "outputs": [
    {
     "data": {
      "text/plain": [
       "<shap.explainers._tree.Tree at 0x1f1c0c14e80>"
      ]
     },
     "execution_count": 108,
     "metadata": {},
     "output_type": "execute_result"
    }
   ],
   "source": [
    "model_dt.fit(X_train, y_train)\n",
    "\n",
    "explainer = shap.TreeExplainer(model_dt)  \n",
    "shap_values = explainer.shap_values(X_test)\n",
    "base_value = explainer.expected_value\n",
    "explainer"
   ]
  },
  {
   "cell_type": "code",
   "execution_count": 109,
   "id": "6006effc",
   "metadata": {},
   "outputs": [
    {
     "data": {
      "image/png": "[encoded data removed]",
      "text/plain": [
       "<Figure size 576x309.6 with 1 Axes>"
      ]
     },
     "metadata": {
      "needs_background": "light"
     },
     "output_type": "display_data"
    }
   ],
   "source": [
    "shap.summary_plot(shap_values, X_test_mm_scaled, title=\"SHAP summary plot for Decision Tree Classifier\", \n",
    "                  feature_names=X_test.columns) "
   ]
  },
  {
   "cell_type": "code",
   "execution_count": 110,
   "id": "f19f8ef1",
   "metadata": {},
   "outputs": [
    {
     "data": {
      "text/plain": [
       "LogisticRegression()"
      ]
     },
     "execution_count": 110,
     "metadata": {},
     "output_type": "execute_result"
    }
   ],
   "source": [
    "model_lr.fit(X_train, y_train)"
   ]
  },
  {
   "cell_type": "code",
   "execution_count": 111,
   "id": "e756f656",
   "metadata": {},
   "outputs": [
    {
     "data": {
      "text/plain": [
       "Text(0.5, 0, 'Importance')"
      ]
     },
     "execution_count": 111,
     "metadata": {},
     "output_type": "execute_result"
    },
    {
     "data": {
      "image/png": "[encoded data removed]",
      "text/plain": [
       "<Figure size 576x288 with 1 Axes>"
      ]
     },
     "metadata": {
      "needs_background": "light"
     },
     "output_type": "display_data"
    }
   ],
   "source": [
    "coeff = list(model_lr.coef_[0])\n",
    "labels = list(diabetes_data.drop('Outcome',1).columns)\n",
    " \n",
    "features = pd.DataFrame()\n",
    "features['Features'] = labels\n",
    "features['importance'] = coeff\n",
    "features.sort_values(by=['importance'], ascending=True, inplace=True)\n",
    "features['positive'] = features['importance'] > 0\n",
    "features.set_index('Features', inplace=True)\n",
    "features.importance.plot(kind='barh', figsize=(8, 4),color = features.positive.map({True: 'blue', False: 'red'}))\n",
    "plt.xlabel('Importance')"
   ]
  },
  {
   "cell_type": "markdown",
   "id": "556b840b",
   "metadata": {},
   "source": [
    "#### \"Pool\" de modelos para seleção do melhor"
   ]
  },
  {
   "cell_type": "code",
   "execution_count": 112,
   "id": "99b4781e",
   "metadata": {},
   "outputs": [],
   "source": [
    "rng = np.random.RandomState(42) \n",
    "X_train, X_dsel, y_train_en, y_dsel = train_test_split(X_train_mm_scaled, y_train, test_size=0.40, random_state=rng)"
   ]
  },
  {
   "cell_type": "code",
   "execution_count": 113,
   "id": "1df86359",
   "metadata": {},
   "outputs": [
    {
     "data": {
      "text/html": [
       "<div>\n",
       "<style scoped>\n",
       "    .dataframe tbody tr th:only-of-type {\n",
       "        vertical-align: middle;\n",
       "    }\n",
       "\n",
       "    .dataframe tbody tr th {\n",
       "        vertical-align: top;\n",
       "    }\n",
       "\n",
       "    .dataframe thead th {\n",
       "        text-align: right;\n",
       "    }\n",
       "</style>\n",
       "<table border=\"1\" class=\"dataframe\">\n",
       "  <thead>\n",
       "    <tr style=\"text-align: right;\">\n",
       "      <th></th>\n",
       "      <th>Models</th>\n",
       "      <th>Accuracy</th>\n",
       "      <th>Precision</th>\n",
       "      <th>Recall</th>\n",
       "      <th>F1</th>\n",
       "    </tr>\n",
       "  </thead>\n",
       "  <tbody>\n",
       "    <tr>\n",
       "      <th>0</th>\n",
       "      <td>DESP</td>\n",
       "      <td>0.779</td>\n",
       "      <td>0.761</td>\n",
       "      <td>0.530</td>\n",
       "      <td>0.625</td>\n",
       "    </tr>\n",
       "    <tr>\n",
       "      <th>1</th>\n",
       "      <td>KNORAU</td>\n",
       "      <td>0.784</td>\n",
       "      <td>0.766</td>\n",
       "      <td>0.545</td>\n",
       "      <td>0.637</td>\n",
       "    </tr>\n",
       "    <tr>\n",
       "      <th>2</th>\n",
       "      <td>KNORAE</td>\n",
       "      <td>0.789</td>\n",
       "      <td>0.760</td>\n",
       "      <td>0.576</td>\n",
       "      <td>0.655</td>\n",
       "    </tr>\n",
       "  </tbody>\n",
       "</table>\n",
       "</div>"
      ],
      "text/plain": [
       "   Models  Accuracy  Precision  Recall     F1\n",
       "0    DESP     0.779      0.761   0.530  0.625\n",
       "1  KNORAU     0.784      0.766   0.545  0.637\n",
       "2  KNORAE     0.789      0.760   0.576  0.655"
      ]
     },
     "execution_count": 113,
     "metadata": {},
     "output_type": "execute_result"
    }
   ],
   "source": [
    "model_nb = GaussianNB(var_smoothing=0.001)\n",
    "model_lr = LogisticRegression()\n",
    "model_dt = DecisionTreeClassifier(criterion='entropy', max_depth=3)\n",
    "model_svc = SVC(kernel=\"linear\")\n",
    "\n",
    "model_nb.fit(X_train, y_train_en)\n",
    "model_lr.fit(X_train, y_train_en)\n",
    "model_dt.fit(X_train, y_train_en)\n",
    "model_svc.fit(X_train, y_train_en) \n",
    "\n",
    "pool_classifiers = [model_nb, model_lr, model_dt, model_svc]\n",
    "\n",
    "desp = DESP(pool_classifiers)\n",
    "knorau = KNORAU(pool_classifiers)\n",
    "kne = KNORAE(pool_classifiers)  \n",
    "\n",
    "des_models = [desp, knorau, kne]\n",
    "\n",
    "des_results = get_results(X_dsel, y_dsel, X_test_mm_scaled, y_test, des_models)\n",
    "\n",
    "des_results"
   ]
  },
  {
   "cell_type": "code",
   "execution_count": 114,
   "id": "dae2d78a",
   "metadata": {},
   "outputs": [],
   "source": [
    "model_nb = GaussianNB(var_smoothing=0.001)\n",
    "model_lr = LogisticRegression()\n",
    "model_dt = DecisionTreeClassifier(criterion='entropy', max_depth=3)\n",
    "model_svc = SVC(kernel=\"linear\")\n",
    "\n",
    "model_nb.fit(X_train, y_train_en)\n",
    "model_lr.fit(X_train, y_train_en)\n",
    "model_dt.fit(X_train, y_train_en)\n",
    "model_svc.fit(X_train, y_train_en) \n",
    "\n",
    "pool_classifiers = [model_nb, model_lr, model_dt, model_svc]\n",
    "\n",
    "desp = DESP(pool_classifiers, DFP=True)\n",
    "knorau = KNORAU(pool_classifiers, DFP=True)\n",
    "kne = KNORAE(pool_classifiers, DFP=True)  \n",
    "\n",
    "des_models = [desp, knorau, kne]\n",
    "\n",
    "des_results = get_results(X_dsel, y_dsel, X_test_mm_scaled, y_test, des_models)"
   ]
  },
  {
   "cell_type": "code",
   "execution_count": 115,
   "id": "89a740a9",
   "metadata": {},
   "outputs": [
    {
     "data": {
      "text/plain": [
       "KNORAE(DFP=True,\n",
       "       pool_classifiers=[GaussianNB(var_smoothing=0.001), LogisticRegression(),\n",
       "                         DecisionTreeClassifier(criterion='entropy',\n",
       "                                                max_depth=3),\n",
       "                         SVC(kernel='linear')])"
      ]
     },
     "execution_count": 115,
     "metadata": {},
     "output_type": "execute_result"
    }
   ],
   "source": [
    "kne.fit(X_dsel, y_dsel)"
   ]
  },
  {
   "cell_type": "code",
   "execution_count": 116,
   "id": "b2c87814",
   "metadata": {},
   "outputs": [
    {
     "data": {
      "text/plain": [
       "0.7947368421052632"
      ]
     },
     "execution_count": 116,
     "metadata": {},
     "output_type": "execute_result"
    }
   ],
   "source": [
    "kne.score(X_test_mm_scaled, y_test)"
   ]
  },
  {
   "cell_type": "code",
   "execution_count": 117,
   "id": "8803660b",
   "metadata": {},
   "outputs": [
    {
     "data": {
      "text/html": [
       "<div>\n",
       "<style scoped>\n",
       "    .dataframe tbody tr th:only-of-type {\n",
       "        vertical-align: middle;\n",
       "    }\n",
       "\n",
       "    .dataframe tbody tr th {\n",
       "        vertical-align: top;\n",
       "    }\n",
       "\n",
       "    .dataframe thead th {\n",
       "        text-align: right;\n",
       "    }\n",
       "</style>\n",
       "<table border=\"1\" class=\"dataframe\">\n",
       "  <thead>\n",
       "    <tr style=\"text-align: right;\">\n",
       "      <th></th>\n",
       "      <th>Models</th>\n",
       "      <th>Accuracy</th>\n",
       "      <th>Precision</th>\n",
       "      <th>Recall</th>\n",
       "      <th>F1</th>\n",
       "    </tr>\n",
       "  </thead>\n",
       "  <tbody>\n",
       "    <tr>\n",
       "      <th>0</th>\n",
       "      <td>DESP</td>\n",
       "      <td>0.784</td>\n",
       "      <td>0.755</td>\n",
       "      <td>0.561</td>\n",
       "      <td>0.643</td>\n",
       "    </tr>\n",
       "    <tr>\n",
       "      <th>1</th>\n",
       "      <td>KNORAU</td>\n",
       "      <td>0.774</td>\n",
       "      <td>0.725</td>\n",
       "      <td>0.561</td>\n",
       "      <td>0.632</td>\n",
       "    </tr>\n",
       "    <tr>\n",
       "      <th>2</th>\n",
       "      <td>KNORAE</td>\n",
       "      <td>0.795</td>\n",
       "      <td>0.765</td>\n",
       "      <td>0.591</td>\n",
       "      <td>0.667</td>\n",
       "    </tr>\n",
       "  </tbody>\n",
       "</table>\n",
       "</div>"
      ],
      "text/plain": [
       "   Models  Accuracy  Precision  Recall     F1\n",
       "0    DESP     0.784      0.755   0.561  0.643\n",
       "1  KNORAU     0.774      0.725   0.561  0.632\n",
       "2  KNORAE     0.795      0.765   0.591  0.667"
      ]
     },
     "execution_count": 117,
     "metadata": {},
     "output_type": "execute_result"
    }
   ],
   "source": [
    "des_results"
   ]
  },
  {
   "cell_type": "code",
   "execution_count": 118,
   "id": "3b9ac996",
   "metadata": {},
   "outputs": [
    {
     "data": {
      "text/html": [
       "<div>\n",
       "<style scoped>\n",
       "    .dataframe tbody tr th:only-of-type {\n",
       "        vertical-align: middle;\n",
       "    }\n",
       "\n",
       "    .dataframe tbody tr th {\n",
       "        vertical-align: top;\n",
       "    }\n",
       "\n",
       "    .dataframe thead th {\n",
       "        text-align: right;\n",
       "    }\n",
       "</style>\n",
       "<table border=\"1\" class=\"dataframe\">\n",
       "  <thead>\n",
       "    <tr style=\"text-align: right;\">\n",
       "      <th></th>\n",
       "      <th>Models</th>\n",
       "      <th>Accuracy</th>\n",
       "      <th>Precision</th>\n",
       "      <th>Recall</th>\n",
       "      <th>F1</th>\n",
       "    </tr>\n",
       "  </thead>\n",
       "  <tbody>\n",
       "    <tr>\n",
       "      <th>0</th>\n",
       "      <td>DESP</td>\n",
       "      <td>0.789</td>\n",
       "      <td>0.760</td>\n",
       "      <td>0.576</td>\n",
       "      <td>0.655</td>\n",
       "    </tr>\n",
       "    <tr>\n",
       "      <th>1</th>\n",
       "      <td>KNORAU</td>\n",
       "      <td>0.795</td>\n",
       "      <td>0.765</td>\n",
       "      <td>0.591</td>\n",
       "      <td>0.667</td>\n",
       "    </tr>\n",
       "    <tr>\n",
       "      <th>2</th>\n",
       "      <td>KNORAE</td>\n",
       "      <td>0.800</td>\n",
       "      <td>0.769</td>\n",
       "      <td>0.606</td>\n",
       "      <td>0.678</td>\n",
       "    </tr>\n",
       "  </tbody>\n",
       "</table>\n",
       "</div>"
      ],
      "text/plain": [
       "   Models  Accuracy  Precision  Recall     F1\n",
       "0    DESP     0.789      0.760   0.576  0.655\n",
       "1  KNORAU     0.795      0.765   0.591  0.667\n",
       "2  KNORAE     0.800      0.769   0.606  0.678"
      ]
     },
     "execution_count": 118,
     "metadata": {},
     "output_type": "execute_result"
    }
   ],
   "source": [
    "model_nb = GaussianNB(var_smoothing=0.001)\n",
    "model_lr = LogisticRegression()\n",
    "model_dt = DecisionTreeClassifier(criterion='entropy', max_depth=3)\n",
    "model_svc = SVC(kernel=\"linear\")\n",
    "\n",
    "model_nb.fit(X_train, y_train_en)\n",
    "model_lr.fit(X_train, y_train_en)\n",
    "model_dt.fit(X_train, y_train_en)\n",
    "model_svc.fit(X_train, y_train_en) \n",
    "\n",
    "pool_classifiers = [model_nb, model_lr, model_dt, model_svc]\n",
    "\n",
    "desp = DESP(pool_classifiers, DFP=True, k=3)\n",
    "knorau = KNORAU(pool_classifiers, DFP=True, k=3)\n",
    "kne = KNORAE(pool_classifiers, DFP=True, k=3)  \n",
    "\n",
    "des_models = [desp, knorau, kne]\n",
    "\n",
    "des_results = get_results(X_dsel, y_dsel, X_test_mm_scaled, y_test, des_models)\n",
    "\n",
    "des_results"
   ]
  },
  {
   "cell_type": "markdown",
   "id": "44d53a16",
   "metadata": {},
   "source": [
    "#### Melhor Resultado 80%"
   ]
  }
 ],
 "metadata": {
  "kernelspec": {
   "display_name": "Python 3 (ipykernel)",
   "language": "python",
   "name": "python3"
  },
  "language_info": {
   "codemirror_mode": {
    "name": "ipython",
    "version": 3
   },
   "file_extension": ".py",
   "mimetype": "text/x-python",
   "name": "python",
   "nbconvert_exporter": "python",
   "pygments_lexer": "ipython3",
   "version": "3.8.12"
  }
 },
 "nbformat": 4,
 "nbformat_minor": 5
}
